{
 "cells": [
  {
   "cell_type": "code",
   "execution_count": 1,
   "id": "12ba9aaf",
   "metadata": {},
   "outputs": [
    {
     "name": "stdout",
     "output_type": "stream",
     "text": [
      "Twinkle, twinkle, little star, \n",
      "      How I wonder what you are!   \n",
      "          Up above the world so high,    \n",
      "          Like a diamond in the sky.\n",
      "Twinkle, twinkle, little star,\n",
      "      How I wonder what you are\n"
     ]
    }
   ],
   "source": [
    "print(\"Twinkle, twinkle, little star, \\n      How I wonder what you are!   \\n          Up above the world so high,    \\n          Like a diamond in the sky.\\nTwinkle, twinkle, little star,\\n      How I wonder what you are\")"
   ]
  },
  {
   "cell_type": "code",
   "execution_count": 2,
   "id": "f9b60a4b",
   "metadata": {},
   "outputs": [
    {
     "name": "stdout",
     "output_type": "stream",
     "text": [
      "I am using phython version is 3.8 version \n"
     ]
    }
   ],
   "source": [
    "a = \"3.8 version \"\n",
    "print(\"I am using phython version is\" ,a)"
   ]
  },
  {
   "cell_type": "code",
   "execution_count": 3,
   "id": "4f6226f7",
   "metadata": {},
   "outputs": [
    {
     "name": "stdout",
     "output_type": "stream",
     "text": [
      "10/23/2021 \n",
      " 7:01 PM\n"
     ]
    }
   ],
   "source": [
    "date=\"10/23/2021 \\n\"\n",
    "time=\"7:01 PM\";\n",
    "print(date , time)"
   ]
  },
  {
   "cell_type": "code",
   "execution_count": 4,
   "id": "9bfa6cef",
   "metadata": {},
   "outputs": [
    {
     "name": "stdout",
     "output_type": "stream",
     "text": [
      "Enter your First Name  :Abdul\n",
      "Enter your last Name  :Rehman\n",
      "Rehman Abdul\n"
     ]
    }
   ],
   "source": [
    "a = input(\"Enter your First Name  :\");\n",
    "b = input(\"Enter your last Name  :\");\n",
    "c=b+ \" \" + a;\n",
    "print(c)"
   ]
  },
  {
   "cell_type": "code",
   "execution_count": 5,
   "id": "d41d99f4",
   "metadata": {},
   "outputs": [
    {
     "name": "stdout",
     "output_type": "stream",
     "text": [
      "Enter the number 1 to 102\n",
      "12\n"
     ]
    }
   ],
   "source": [
    "a = int(input(\"Enter the number 1 to 10\"))\n",
    "b = 10;\n",
    "print(a+b)\n"
   ]
  },
  {
   "cell_type": "code",
   "execution_count": 6,
   "id": "58eb1db6",
   "metadata": {},
   "outputs": [
    {
     "name": "stdout",
     "output_type": "stream",
     "text": [
      "Enter your English Mark56\n",
      "Enter your Urdu Mark56\n",
      "Enter your Physics  Mark65\n",
      "Enter your mathMark76\n",
      "Enter your Islamiat Mark87\n",
      "68.0\n",
      "Grade B\n"
     ]
    }
   ],
   "source": [
    "\n",
    "englishMark = int(input(\"Enter your English Mark\"));\n",
    "urduMark= int(input(\"Enter your Urdu Mark\"));\n",
    "physicsMark = int(input(\"Enter your Physics  Mark\"));\n",
    "mathMark =int(input(\"Enter your mathMark\"));\n",
    "islamiatMark= int(input(\"Enter your Islamiat Mark\"));\n",
    "obtMark = englishMark + urduMark + physicsMark + mathMark + islamiatMark;\n",
    "totalMark = 500;\n",
    "percentage = obtMark / totalMark * 100;\n",
    "print(percentage);\n",
    "if (percentage > 100 and percentage > 80):\n",
    "    print(\"Grade A +\"); \n",
    "elif( percentage <79 and percentage > 70):\n",
    "    print(\"Grade A\");\n",
    "elif (percentage <69 and percentage > 60):\n",
    "    print(\"Grade B\");\n",
    "elif (percentage <59 and percentage > 50):\n",
    "    print(\"Grade C\");\n",
    "elif (percentage <49 and percentage > 40):\n",
    "    print(\"Grade D\");\n",
    "elif (percentage > 30 and percentage > 1):\n",
    "    print(\"Grade E\");\n",
    "else:\n",
    "    print(\"You are fail\");\n"
   ]
  },
  {
   "cell_type": "code",
   "execution_count": 7,
   "id": "8e45bad3",
   "metadata": {},
   "outputs": [
    {
     "name": "stdout",
     "output_type": "stream",
     "text": [
      "Enter the anyone number you check this is even number this is dd number2\n",
      "This is even Number\n"
     ]
    }
   ],
   "source": [
    "num = int(input(\"Enter the anyone number you check this is even number this is dd number\"))\n",
    "if(num %2==0 ):\n",
    "    print(\"This is even Number\")\n",
    "else:\n",
    "    print(\"This is odd Number\")"
   ]
  },
  {
   "cell_type": "code",
   "execution_count": 8,
   "id": "222c49d3",
   "metadata": {},
   "outputs": [
    {
     "name": "stdout",
     "output_type": "stream",
     "text": [
      "[1, 3, 6, 7, 9]\n",
      "Print list of item is 5\n"
     ]
    }
   ],
   "source": [
    "list=[1,3,6,7,9];\n",
    "print(list)\n",
    "count=0\n",
    "for i in  list :\n",
    "    count=count+1\n",
    "print(\"Print list of item is\" , count)"
   ]
  },
  {
   "cell_type": "code",
   "execution_count": 9,
   "id": "dce22660",
   "metadata": {},
   "outputs": [
    {
     "name": "stdout",
     "output_type": "stream",
     "text": [
      "[1, 3, 4, 5, 78]\n"
     ]
    }
   ],
   "source": [
    "mylist = [1,3,4,5,78]\n",
    "print(mylist)"
   ]
  },
  {
   "cell_type": "code",
   "execution_count": 10,
   "id": "42a8027a",
   "metadata": {},
   "outputs": [
    {
     "name": "stdout",
     "output_type": "stream",
     "text": [
      "How many numbers: 3\n",
      "Enter number 23\n",
      "Enter number 29\n",
      "Enter number 11\n",
      "Maximum element in the list is : 29 \n",
      "Minimum element in the list is : 11\n"
     ]
    }
   ],
   "source": [
    "lst = []\n",
    "num = int(input('How many numbers: '))\n",
    "for n in range(num):\n",
    "    numbers = int(input('Enter number '))\n",
    "    lst.append(numbers)\n",
    "print(\"Maximum element in the list is :\", max(lst), \"\\nMinimum element in the list is :\", min(lst))"
   ]
  },
  {
   "cell_type": "code",
   "execution_count": 11,
   "id": "be6e8e03",
   "metadata": {},
   "outputs": [
    {
     "name": "stdout",
     "output_type": "stream",
     "text": [
      "8\n",
      "13\n",
      "21\n",
      "34\n",
      "55\n",
      "89\n"
     ]
    }
   ],
   "source": [
    "a = [1, 1, 2, 3, 5, 8, 13, 21, 34, 55, 89]\n",
    "\n",
    "for i in a:\n",
    "\n",
    "    if i > 5:\n",
    "\n",
    "        print(i)\n",
    "        "
   ]
  },
  {
   "cell_type": "code",
   "execution_count": null,
   "id": "6be5942e",
   "metadata": {},
   "outputs": [],
   "source": []
  }
 ],
 "metadata": {
  "kernelspec": {
   "display_name": "Python 3",
   "language": "python",
   "name": "python3"
  },
  "language_info": {
   "codemirror_mode": {
    "name": "ipython",
    "version": 3
   },
   "file_extension": ".py",
   "mimetype": "text/x-python",
   "name": "python",
   "nbconvert_exporter": "python",
   "pygments_lexer": "ipython3",
   "version": "3.8.8"
  }
 },
 "nbformat": 4,
 "nbformat_minor": 5
}
